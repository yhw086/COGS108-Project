{
 "cells": [
  {
   "cell_type": "markdown",
   "metadata": {},
   "source": [
    "# COGS 108 - Data Checkpoint"
   ]
  },
  {
   "cell_type": "markdown",
   "metadata": {},
   "source": [
    "# Names\n",
    "\n",
    "- Baoni Li\n",
    "- Huiyi He\n",
    "- Jiayi Zhu\n",
    "- Yuhan Zhou\n",
    "- Yihuan Wang"
   ]
  },
  {
   "cell_type": "markdown",
   "metadata": {},
   "source": [
    "<a id='research_question'></a>\n",
    "# Research Question"
   ]
  },
  {
   "cell_type": "markdown",
   "metadata": {},
   "source": [
    "What factors are associated with higher medical expenditure in adults in the United States? Specifically, are there relationships between medical costs and demographic factors such as age, working hours, and BMI, as well as health-related behaviors such as smoking behavior and overall lifestyle choices? If there are statistically significant relationships between these features and medical expenditure, are they positively or negatively associated?"
   ]
  },
  {
   "cell_type": "markdown",
   "metadata": {},
   "source": [
    "# Dataset(s)"
   ]
  },
  {
   "cell_type": "markdown",
   "metadata": {},
   "source": [
    "- Dataset Name: MEPS HC-224: 2020 Full Year Consolidated Data File\n",
    "- Link to the dataset: https://meps.ahrq.gov/data_stats/download_data_files_detail.jsp?cboPufNumber=HC-224\n",
    "- Number of observations: 27805\n",
    "\n",
    "\n",
    "- Dataset Name: MEPS HC-216: 2019 Full Year Consolidated Data File\n",
    "- Link to the dataset: https://meps.ahrq.gov/mepsweb/data_stats/download_data_files_detail.jsp?cboPufNumber=HC-216\n",
    "- Number of observations: 28512\n",
    "\n",
    "\n",
    "- Dataset Name: MEPS HC-209: 2018 Full Year Consolidated Data File\n",
    "- Link to the dataset: https://meps.ahrq.gov/mepsweb/data_stats/download_data_files_detail.jsp?cboPufNumber=HC-209\n",
    "- Number of observations: 30461\n",
    "\n",
    "\n",
    "- Dataset Name: MEPS HC-201: 2017 Full Year Consolidated Data File\n",
    "- Link to the dataset: https://meps.ahrq.gov/mepsweb/data_stats/download_data_files_detail.jsp?cboPufNumber=HC-201\n",
    "- Number of observations: 31880\n",
    "\n",
    "\n",
    "- Dataset Name: MEPS HC-192: 2016 Full Year Consolidated Data File\t\n",
    "- Link to the dataset: https://meps.ahrq.gov/mepsweb/data_stats/download_data_files_detail.jsp?cboPufNumber=HC-192\n",
    "- Number of observations: 34655\n",
    "\n",
    "\n",
    "- Dataset Name: MEPS HC-181: 2015 Full Year Consolidated Data File\t\n",
    "- Link to the dataset: https://meps.ahrq.gov/mepsweb/data_stats/download_data_files_detail.jsp?cboPufNumber=HC-181\n",
    "- Number of observations: TBD\n",
    "\n",
    "\n",
    "- Dataset Name: MEPS HC-171: 2014 Full Year Consolidated Data File\t\n",
    "- Link to the dataset: https://meps.ahrq.gov/mepsweb/data_stats/download_data_files_detail.jsp?cboPufNumber=HC-171\n",
    "- Number of observations: TBD\n",
    "\n",
    "\n",
    "- Dataset Name: MEPS HC-163: 2013 Full Year Consolidated Data File\n",
    "- Link to the dataset: https://meps.ahrq.gov/mepsweb/data_stats/download_data_files_detail.jsp?cboPufNumber=HC-163\n",
    "- Number of observations: TBD\n",
    "\n",
    "\n",
    "- Dataset Name: MEPS HC-155: 2012 Full Year Consolidated Data File\t\n",
    "- Link to the dataset: https://meps.ahrq.gov/mepsweb/data_stats/download_data_files_detail.jsp?cboPufNumber=HC-155\n",
    "- Number of observations: TBD\n",
    "\n",
    "\n",
    "- Dataset Name: MEPS HC-147: 2011 Full Year Consolidated Data File\t\n",
    "- Link to the dataset: https://meps.ahrq.gov/mepsweb/data_stats/download_data_files_detail.jsp?cboPufNumber=HC-147\n",
    "- Number of observations: TBD\n",
    "\n",
    "\n",
    "\n",
    "Above datasets are all collected from Medical Expenditure Panel Survey, which is a national survey conducted by the Agency for Healthcare Research and Quality (AHRQ) that collects data on healthcare utilization and expenditures. Each dataset contains information of the given variables for a year, combined, they represent data collected from year 2011-2020"
   ]
  },
  {
   "cell_type": "markdown",
   "metadata": {},
   "source": [
    "# Setup"
   ]
  },
  {
   "cell_type": "code",
   "execution_count": 1,
   "metadata": {},
   "outputs": [],
   "source": [
    "# pip install pyreadstat before import\n",
    "import pandas as pd\n",
    "import numpy as np\n",
    "import os\n",
    "import pyreadstat as pyreadstat"
   ]
  },
  {
   "cell_type": "markdown",
   "metadata": {},
   "source": [
    "# Data Cleaning"
   ]
  },
  {
   "cell_type": "markdown",
   "metadata": {},
   "source": [
    "Describe your data cleaning steps here."
   ]
  },
  {
   "cell_type": "code",
   "execution_count": 2,
   "metadata": {},
   "outputs": [],
   "source": [
    "# Read each dta file and store them in a list of dataframes\n",
    "path = r'C:\\Users\\jojo1\\OneDrive\\Documents\\UCSD\\UCSD WI23\\COGS 108\\project'\n",
    "files_dta = [file for file in os.listdir(path) if file.endswith('.dta')]\n",
    "\n",
    "dfs = pd.DataFrame()\n",
    "yrlst = np.arange(11,21,1)\n",
    "for i in range(len(files_dta)):\n",
    "    filepath = os.path.join(path, files_dta[i])\n",
    "    df, meta = pyreadstat.read_dta(filepath)\n",
    "    df['YEAR'] = np.repeat(yrlst[i], df.shape[0])\n",
    "    df = df.rename(columns={col: col.replace(str(yrlst[i]), '_FINAL') for col in df.columns if str(yrlst[i]) in col})\n",
    "    dfs = pd.concat([dfs, df])"
   ]
  },
  {
   "cell_type": "code",
   "execution_count": 3,
   "metadata": {},
   "outputs": [],
   "source": [
    "dfs2 = dfs[['OFTSMK53', 'ADSMOK42', 'ADBMI42', 'BMINDX53', 'HOUR31', \n",
    "            'HOUR42', 'HOUR53', 'AGE_FINALX', \n",
    "            'RACEWX', 'RACEBX', 'RACEAX', \n",
    "            'REGION53', 'REGION42', 'REGION31', 'REGION_FINAL', 'YEAR']]\n",
    "\n",
    "dfs2 = dfs2.reset_index()\n",
    "dfs2 = dfs2.rename(columns={'index' : 'index_within_yr'})"
   ]
  },
  {
   "cell_type": "code",
   "execution_count": 4,
   "metadata": {},
   "outputs": [],
   "source": [
    "######## clean smoking, merge how often smoke and adult smoke #########"
   ]
  },
  {
   "cell_type": "code",
   "execution_count": 5,
   "metadata": {},
   "outputs": [
    {
     "data": {
      "text/plain": [
       " 3.0     75632\n",
       "-1.0     29073\n",
       " 1.0      8966\n",
       " 2.0      4211\n",
       "-7.0       555\n",
       "-8.0       210\n",
       "-9.0        10\n",
       "-15.0        1\n",
       "Name: OFTSMK53, dtype: int64"
      ]
     },
     "execution_count": 5,
     "metadata": {},
     "output_type": "execute_result"
    }
   ],
   "source": [
    "dfs.OFTSMK53.value_counts()"
   ]
  },
  {
   "cell_type": "code",
   "execution_count": 6,
   "metadata": {},
   "outputs": [
    {
     "data": {
      "text/plain": [
       " 2.0    142164\n",
       "-1.0    102851\n",
       " 1.0     28228\n",
       "-9.0      3333\n",
       "Name: ADSMOK42, dtype: int64"
      ]
     },
     "execution_count": 6,
     "metadata": {},
     "output_type": "execute_result"
    }
   ],
   "source": [
    "dfs.ADSMOK42.value_counts()"
   ]
  },
  {
   "cell_type": "code",
   "execution_count": 7,
   "metadata": {},
   "outputs": [],
   "source": [
    "###### drop if no BMI value ########"
   ]
  },
  {
   "cell_type": "code",
   "execution_count": 8,
   "metadata": {},
   "outputs": [
    {
     "name": "stdout",
     "output_type": "stream",
     "text": [
      "-1.0     24223\n",
      "-15.0     1990\n",
      " 25.8      696\n",
      " 26.6      694\n",
      " 25.1      578\n",
      "         ...  \n",
      " 54.6        1\n",
      " 56.2        1\n",
      " 52.7        1\n",
      " 4.4         1\n",
      " 10.8        1\n",
      "Name: ADBMI42, Length: 542, dtype: int64\n",
      "-1.0      61341\n",
      "-9.0       4455\n",
      " 26.6      3976\n",
      " 25.8      3950\n",
      " 25.1      3346\n",
      "          ...  \n",
      " 66.4         1\n",
      " 76.8         1\n",
      " 64.1         1\n",
      " 66.7         1\n",
      " 134.7        1\n",
      "Name: BMINDX53, Length: 603, dtype: int64\n"
     ]
    }
   ],
   "source": [
    "print(dfs2.ADBMI42.value_counts())\n",
    "print(dfs2.BMINDX53.value_counts())"
   ]
  },
  {
   "cell_type": "code",
   "execution_count": 9,
   "metadata": {},
   "outputs": [
    {
     "data": {
      "text/html": [
       "<div>\n",
       "<style scoped>\n",
       "    .dataframe tbody tr th:only-of-type {\n",
       "        vertical-align: middle;\n",
       "    }\n",
       "\n",
       "    .dataframe tbody tr th {\n",
       "        vertical-align: top;\n",
       "    }\n",
       "\n",
       "    .dataframe thead th {\n",
       "        text-align: right;\n",
       "    }\n",
       "</style>\n",
       "<table border=\"1\" class=\"dataframe\">\n",
       "  <thead>\n",
       "    <tr style=\"text-align: right;\">\n",
       "      <th></th>\n",
       "      <th>index_within_yr</th>\n",
       "      <th>OFTSMK53</th>\n",
       "      <th>ADSMOK42</th>\n",
       "      <th>ADBMI42</th>\n",
       "      <th>BMINDX53</th>\n",
       "      <th>HOUR31</th>\n",
       "      <th>HOUR42</th>\n",
       "      <th>HOUR53</th>\n",
       "      <th>AGE_FINALX</th>\n",
       "      <th>RACEWX</th>\n",
       "      <th>RACEBX</th>\n",
       "      <th>RACEAX</th>\n",
       "      <th>YEAR</th>\n",
       "      <th>REGION_Merged</th>\n",
       "    </tr>\n",
       "  </thead>\n",
       "  <tbody>\n",
       "    <tr>\n",
       "      <th>0</th>\n",
       "      <td>0</td>\n",
       "      <td>NaN</td>\n",
       "      <td>2.0</td>\n",
       "      <td>NaN</td>\n",
       "      <td>39.1</td>\n",
       "      <td>48.0</td>\n",
       "      <td>-2.0</td>\n",
       "      <td>-2.0</td>\n",
       "      <td>30.0</td>\n",
       "      <td>1.0</td>\n",
       "      <td>3.0</td>\n",
       "      <td>3.0</td>\n",
       "      <td>11</td>\n",
       "      <td>1.0</td>\n",
       "    </tr>\n",
       "    <tr>\n",
       "      <th>1</th>\n",
       "      <td>1</td>\n",
       "      <td>NaN</td>\n",
       "      <td>2.0</td>\n",
       "      <td>NaN</td>\n",
       "      <td>25.8</td>\n",
       "      <td>-1.0</td>\n",
       "      <td>-1.0</td>\n",
       "      <td>-1.0</td>\n",
       "      <td>27.0</td>\n",
       "      <td>1.0</td>\n",
       "      <td>3.0</td>\n",
       "      <td>3.0</td>\n",
       "      <td>11</td>\n",
       "      <td>1.0</td>\n",
       "    </tr>\n",
       "    <tr>\n",
       "      <th>2</th>\n",
       "      <td>2</td>\n",
       "      <td>NaN</td>\n",
       "      <td>-1.0</td>\n",
       "      <td>NaN</td>\n",
       "      <td>-1.0</td>\n",
       "      <td>-1.0</td>\n",
       "      <td>-1.0</td>\n",
       "      <td>-1.0</td>\n",
       "      <td>6.0</td>\n",
       "      <td>1.0</td>\n",
       "      <td>3.0</td>\n",
       "      <td>3.0</td>\n",
       "      <td>11</td>\n",
       "      <td>1.0</td>\n",
       "    </tr>\n",
       "    <tr>\n",
       "      <th>3</th>\n",
       "      <td>3</td>\n",
       "      <td>NaN</td>\n",
       "      <td>-1.0</td>\n",
       "      <td>NaN</td>\n",
       "      <td>-1.0</td>\n",
       "      <td>-1.0</td>\n",
       "      <td>-1.0</td>\n",
       "      <td>-1.0</td>\n",
       "      <td>5.0</td>\n",
       "      <td>1.0</td>\n",
       "      <td>3.0</td>\n",
       "      <td>3.0</td>\n",
       "      <td>11</td>\n",
       "      <td>1.0</td>\n",
       "    </tr>\n",
       "    <tr>\n",
       "      <th>4</th>\n",
       "      <td>4</td>\n",
       "      <td>NaN</td>\n",
       "      <td>2.0</td>\n",
       "      <td>NaN</td>\n",
       "      <td>20.2</td>\n",
       "      <td>40.0</td>\n",
       "      <td>-2.0</td>\n",
       "      <td>-2.0</td>\n",
       "      <td>53.0</td>\n",
       "      <td>3.0</td>\n",
       "      <td>3.0</td>\n",
       "      <td>2.0</td>\n",
       "      <td>11</td>\n",
       "      <td>4.0</td>\n",
       "    </tr>\n",
       "    <tr>\n",
       "      <th>...</th>\n",
       "      <td>...</td>\n",
       "      <td>...</td>\n",
       "      <td>...</td>\n",
       "      <td>...</td>\n",
       "      <td>...</td>\n",
       "      <td>...</td>\n",
       "      <td>...</td>\n",
       "      <td>...</td>\n",
       "      <td>...</td>\n",
       "      <td>...</td>\n",
       "      <td>...</td>\n",
       "      <td>...</td>\n",
       "      <td>...</td>\n",
       "      <td>...</td>\n",
       "    </tr>\n",
       "    <tr>\n",
       "      <th>334837</th>\n",
       "      <td>27800</td>\n",
       "      <td>2.0</td>\n",
       "      <td>NaN</td>\n",
       "      <td>26.6</td>\n",
       "      <td>NaN</td>\n",
       "      <td>40.0</td>\n",
       "      <td>-2.0</td>\n",
       "      <td>40.0</td>\n",
       "      <td>43.0</td>\n",
       "      <td>3.0</td>\n",
       "      <td>1.0</td>\n",
       "      <td>3.0</td>\n",
       "      <td>20</td>\n",
       "      <td>3.0</td>\n",
       "    </tr>\n",
       "    <tr>\n",
       "      <th>334838</th>\n",
       "      <td>27801</td>\n",
       "      <td>3.0</td>\n",
       "      <td>NaN</td>\n",
       "      <td>24.0</td>\n",
       "      <td>NaN</td>\n",
       "      <td>30.0</td>\n",
       "      <td>-2.0</td>\n",
       "      <td>-2.0</td>\n",
       "      <td>34.0</td>\n",
       "      <td>3.0</td>\n",
       "      <td>1.0</td>\n",
       "      <td>3.0</td>\n",
       "      <td>20</td>\n",
       "      <td>3.0</td>\n",
       "    </tr>\n",
       "    <tr>\n",
       "      <th>334839</th>\n",
       "      <td>27802</td>\n",
       "      <td>-1.0</td>\n",
       "      <td>NaN</td>\n",
       "      <td>-1.0</td>\n",
       "      <td>NaN</td>\n",
       "      <td>-1.0</td>\n",
       "      <td>-1.0</td>\n",
       "      <td>-1.0</td>\n",
       "      <td>14.0</td>\n",
       "      <td>3.0</td>\n",
       "      <td>1.0</td>\n",
       "      <td>3.0</td>\n",
       "      <td>20</td>\n",
       "      <td>3.0</td>\n",
       "    </tr>\n",
       "    <tr>\n",
       "      <th>334840</th>\n",
       "      <td>27803</td>\n",
       "      <td>-1.0</td>\n",
       "      <td>NaN</td>\n",
       "      <td>-1.0</td>\n",
       "      <td>NaN</td>\n",
       "      <td>-1.0</td>\n",
       "      <td>-1.0</td>\n",
       "      <td>-1.0</td>\n",
       "      <td>12.0</td>\n",
       "      <td>3.0</td>\n",
       "      <td>1.0</td>\n",
       "      <td>3.0</td>\n",
       "      <td>20</td>\n",
       "      <td>3.0</td>\n",
       "    </tr>\n",
       "    <tr>\n",
       "      <th>334841</th>\n",
       "      <td>27804</td>\n",
       "      <td>-1.0</td>\n",
       "      <td>NaN</td>\n",
       "      <td>-1.0</td>\n",
       "      <td>NaN</td>\n",
       "      <td>-1.0</td>\n",
       "      <td>-1.0</td>\n",
       "      <td>-1.0</td>\n",
       "      <td>7.0</td>\n",
       "      <td>3.0</td>\n",
       "      <td>1.0</td>\n",
       "      <td>3.0</td>\n",
       "      <td>20</td>\n",
       "      <td>3.0</td>\n",
       "    </tr>\n",
       "  </tbody>\n",
       "</table>\n",
       "<p>334842 rows × 14 columns</p>\n",
       "</div>"
      ],
      "text/plain": [
       "        index_within_yr  OFTSMK53  ADSMOK42  ADBMI42  BMINDX53  HOUR31  \\\n",
       "0                     0       NaN       2.0      NaN      39.1    48.0   \n",
       "1                     1       NaN       2.0      NaN      25.8    -1.0   \n",
       "2                     2       NaN      -1.0      NaN      -1.0    -1.0   \n",
       "3                     3       NaN      -1.0      NaN      -1.0    -1.0   \n",
       "4                     4       NaN       2.0      NaN      20.2    40.0   \n",
       "...                 ...       ...       ...      ...       ...     ...   \n",
       "334837            27800       2.0       NaN     26.6       NaN    40.0   \n",
       "334838            27801       3.0       NaN     24.0       NaN    30.0   \n",
       "334839            27802      -1.0       NaN     -1.0       NaN    -1.0   \n",
       "334840            27803      -1.0       NaN     -1.0       NaN    -1.0   \n",
       "334841            27804      -1.0       NaN     -1.0       NaN    -1.0   \n",
       "\n",
       "        HOUR42  HOUR53  AGE_FINALX  RACEWX  RACEBX  RACEAX  YEAR REGION_Merged  \n",
       "0         -2.0    -2.0        30.0     1.0     3.0     3.0    11           1.0  \n",
       "1         -1.0    -1.0        27.0     1.0     3.0     3.0    11           1.0  \n",
       "2         -1.0    -1.0         6.0     1.0     3.0     3.0    11           1.0  \n",
       "3         -1.0    -1.0         5.0     1.0     3.0     3.0    11           1.0  \n",
       "4         -2.0    -2.0        53.0     3.0     3.0     2.0    11           4.0  \n",
       "...        ...     ...         ...     ...     ...     ...   ...           ...  \n",
       "334837    -2.0    40.0        43.0     3.0     1.0     3.0    20           3.0  \n",
       "334838    -2.0    -2.0        34.0     3.0     1.0     3.0    20           3.0  \n",
       "334839    -1.0    -1.0        14.0     3.0     1.0     3.0    20           3.0  \n",
       "334840    -1.0    -1.0        12.0     3.0     1.0     3.0    20           3.0  \n",
       "334841    -1.0    -1.0         7.0     3.0     1.0     3.0    20           3.0  \n",
       "\n",
       "[334842 rows x 14 columns]"
      ]
     },
     "execution_count": 9,
     "metadata": {},
     "output_type": "execute_result"
    }
   ],
   "source": [
    "######### clean region columns ############\n",
    "\n",
    "# make sure no rows in data has all four region columns' value unuseable\n",
    "def drop_null_regions(df):\n",
    "    slice1 = df[df['REGION_FINAL'] == -1].copy()\n",
    "    slice2 = slice1[slice1['REGION53'] == -1].copy()\n",
    "    slice3 = slice2[slice2['REGION42'] == -1].copy()\n",
    "    slice4 = slice3[slice3['REGION31'] == -1].copy()\n",
    "\n",
    "    if slice4.shape[0] == 0:\n",
    "        None\n",
    "    else:\n",
    "        df.drop(index=[slice4.index])\n",
    "\n",
    "# merging regions\n",
    "def merge_region(row):\n",
    "    if row['REGION_FINAL'] == -1:\n",
    "        if row['REGION53'] == -1:\n",
    "            if row['REGION42'] == -1:\n",
    "                return f\"{row['REGION31']}\"\n",
    "            else:\n",
    "                return f\"{row['REGION42']}\"\n",
    "        else:\n",
    "            return f\"{row['REGION53']}\"\n",
    "    else:\n",
    "        return f\"{row['REGION_FINAL']}\"\n",
    "\n",
    "    \n",
    "dfs2['REGION_Merged'] = dfs2.apply(merge_region, axis=1)\n",
    "dfs2.drop(columns=['REGION_FINAL', 'REGION53', 'REGION42', 'REGION31'])"
   ]
  },
  {
   "cell_type": "code",
   "execution_count": 10,
   "metadata": {
    "scrolled": true
   },
   "outputs": [
    {
     "data": {
      "text/plain": [
       "3.0    127566\n",
       "4.0     90339\n",
       "2.0     64846\n",
       "1.0     52091\n",
       "Name: REGION_Merged, dtype: int64"
      ]
     },
     "execution_count": 10,
     "metadata": {},
     "output_type": "execute_result"
    }
   ],
   "source": [
    "dfs2.REGION_Merged.value_counts()"
   ]
  },
  {
   "cell_type": "code",
   "execution_count": null,
   "metadata": {},
   "outputs": [],
   "source": [
    "dfs2.to_stata('mydata.dta')\n",
    "df = pd.read_stata('mydata.dta')\n",
    "df = df.fillna(0)\n",
    "df = df.drop(columns=['REGION_FINAL', 'REGION53', 'REGION42', 'REGION31'])\n",
    "# drop BMI\n",
    "bmi_df = df.get(['ADBMI42', 'BMINDX53'])\n",
    "df = df[(bmi_df > 0).any(axis=1)]\n",
    "# df = df[bmi_df.notnull()].copy()\n",
    "df['BMI_Merged'] = bmi_df.apply(lambda frame: (frame['ADBMI42'] \n",
    "                                + frame['BMINDX53'])/2 if (frame['ADBMI42'] \n",
    "                                > 0 and frame['BMINDX53'] > 0) else max(frame['ADBMI42'], frame['BMINDX53']), axis=1)\n",
    "df.get(['BMI_Merged'])\n",
    "df = df.drop(columns = ['ADBMI42', 'BMINDX53'])\n",
    "# drop Smoking\n",
    "smoke_df = df.get(['OFTSMK53', 'ADSMOK42'])\n",
    "df = df[(smoke_df > 0).any(axis=1)]\n",
    "df['SMOKE_Merged'] = smoke_df.apply(lambda frame: (frame['OFTSMK53'] \n",
    "                                + frame['ADSMOK42'])/2 if (frame['OFTSMK53'] \n",
    "                                > 0 and frame['ADSMOK42'] > 0) else max(frame['OFTSMK53'], frame['ADSMOK42']), axis=1)\n",
    "df.get(['SMOKE_Merged'])\n",
    "df = df.drop(columns = ['OFTSMK53', 'ADSMOK42'])\n",
    "df = df[df['AGE_FINALX'] >= 21.0]\n",
    "# df.drop(columns = ['index', 'index_within_yr'])\n",
    "df\n",
    "hour=df[['HOUR31','HOUR42','HOUR53']]\n",
    "hour = hour.applymap(lambda x: np.nan if x <= 0 else x)\n",
    "hour = hour.dropna(how='all')\n",
    "hour['num_notna']=hour.notna().sum(axis=1)\n",
    "hour=hour.fillna(0)\n",
    "hour['sum']=hour['HOUR31']+hour['HOUR42']+hour['HOUR53']\n",
    "hour['HOUR_Merged']=hour['sum']/hour['num_notna']\n",
    "hour=hour['HOUR_Merged']\n",
    "final=df.merge(hour,how='right',right_index=True,left_index=True)\n",
    "final=final.drop(columns=['HOUR31','HOUR42','HOUR53','index','index_within_yr']).reset_index()\n",
    "final=final.drop(columns='index')\n",
    "final"
   ]
  }
 ],
 "metadata": {
  "kernelspec": {
   "display_name": "Python 3 (ipykernel)",
   "language": "python",
   "name": "python3"
  },
  "language_info": {
   "codemirror_mode": {
    "name": "ipython",
    "version": 3
   },
   "file_extension": ".py",
   "mimetype": "text/x-python",
   "name": "python",
   "nbconvert_exporter": "python",
   "pygments_lexer": "ipython3",
   "version": "3.9.5"
  }
 },
 "nbformat": 4,
 "nbformat_minor": 2
}
