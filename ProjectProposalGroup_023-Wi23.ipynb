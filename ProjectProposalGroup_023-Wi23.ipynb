{
 "cells": [
  {
   "cell_type": "markdown",
   "metadata": {},
   "source": [
    "# COGS 108 - Final Project Proposal"
   ]
  },
  {
   "cell_type": "markdown",
   "metadata": {},
   "source": [
    "# Names\n",
    "\n",
    "- Baoni Li\n",
    "- Huiyi He\n",
    "- Jiayi Zhu\n",
    "- Yuhan Zhou\n",
    "- Yihuan Wang"
   ]
  },
  {
   "cell_type": "markdown",
   "metadata": {},
   "source": [
    "# Research Question"
   ]
  },
  {
   "cell_type": "markdown",
   "metadata": {},
   "source": [
    "What factors are associated with higher medical expenditure in adults in the United States? Specifically, are there relationships between medical costs and demographic factors such as age, working hours, and BMI, as well as health-related behaviors such as smoking behavior and overall lifestyle choices? If there are statistically significant relationships between these features and medical expenditure, are they positively or negatively associated?\n",
    "\n"
   ]
  },
  {
   "cell_type": "markdown",
   "metadata": {},
   "source": [
    "## Background and Prior Work"
   ]
  },
  {
   "cell_type": "markdown",
   "metadata": {},
   "source": [
    "The issue of people's health has always been a hot topic in society. “The United States has one of the highest costs of healthcare in the world. In 2021, U.S. healthcare spending reached $ 4.3 trillion, which averages to about $ 12,900 per person”[^peter]. There are some reasons for the rising healthcare costs. One is the aging population. “According to the U.S. Census Bureau, 21 percent of the entire population will be age 65 or older by 2030”[^margot]. Chronic disease prevalence is another. \n",
    "\n",
    "Healthcare expenditure is a critical indicator of a country’s health status, as it reflects the level of medical resources dedicated to improving the health of its citizens. Despite being one of the wealthiest countries in the world, many U.S. adults have trouble affording medical costs. “About half of U.S. adults say that it is very or somewhat difficult for them to afford their health care costs (47%). Adults in households with annual incomes under 40,000 are more than three times as likely as adults in households with incomes over $90,000 to say it is difficult to afford their health care costs (69% v. 21%)”[^alex]. Therefore, it is worth investigating the factors that may contribute to high medical costs. Data science has a wide range of applications in healthcare expenditure analysis, such as predictive modeling, cost analysis and comparative effectiveness research. From our prior work, we found that “most people are terrible at picking the health plan that is right for them”[^definitive]. If people can predict their body changes in the near future based on their body indicators and lifestyles, it will be much easier to select the most appropriate healthcare insurance plans for themselves. These research techniques help the general public choose better healthcare insurance plans, assist healthcare providers to make data-driven decisions and improve the efficiency and effectiveness of healthcare systems. \n",
    "\n",
    "We have found a few projects on the relationship between certain characteristics and healthcare expenditure in the United States. For example, Ward et al. discuss the association of BMI with Healthcare expenditures in the U.S. and make predictions using generalized additive models. Their conclusion is that “higher healthcare costs are associated with excess body weight across a broad range of ages and BMI levels” [^ward]. We believe that we could create finer models to predict more accurate medical costs by considering a dataset with more personal features of the participants. \n",
    "\n",
    "[^peter]: Peter G. Peterson Foundation (30 Jan 2023) Why Are Americans Paying More For Healthcare. https://www.pgpf.org/blog/2023/01/why-are-americans-paying-more-for-healthcare#:~:text=How%20Much%20Does%20the%20United,to%20about%20%2412%2C900%20per%20person\n",
    "\n",
    "[^margot]: Margot Sanger-Katz (11 Dec 2020) It’s Not Just You: Picking a Health Insurance Plan Is Really Hard. *The New York Times*. https://www.nytimes.com/2020/12/11/upshot/choosing-health-insurance-is-hard.html\n",
    "\n",
    "[^alex]: Alex Montero (14 Jul 2022) Americans’ Challenges with Health Care Costs *Kaiser Family Foundation*. https://www.kff.org/health-costs/issue-brief/americans-challenges-with-health-care-costs/\n",
    "\n",
    "[^definitive]: Definitive Healthcare (Aug 2022) 5 reasons why healthcare costs are rising. *Definitive Healthcare*. https://www.definitivehc.com/blog/5-reasons-why-healthcare-costs-are-rising\n",
    "\n",
    "[^ward]: Ward, Zachary J., et al. (24 Mar 2021) Association of Body Mass Index with Health Care Expenditures in the United States by Age and Sex. PLOS ONE, vol. 16, no. 3, 2021, https://doi.org/10.1371/journal.pone.0247307. "
   ]
  },
  {
   "cell_type": "markdown",
   "metadata": {},
   "source": [
    "# Hypothesis\n"
   ]
  },
  {
   "cell_type": "markdown",
   "metadata": {},
   "source": [
    "We believe age is the most common cause for the high medical expenditure in the United States based on our background research and intuitions, as we think older people tend to have higher medical costs than younger people because we expect older people to be more susceptible to chronic diseases. In addition, there is a positive correlation between working hours and medical expenditure because we believe longer working hours might lead to worse health conditions. We also agree medical expenditure has a positive correlation with BMI people with higher BMI are more likely to have a higher risk for diseases such as obesity, diabetes, and cardiovascular diseases. Lastly, lifestyle differences can cause differences in medical spending. For example, people who lead unhealthy lifestyles such as smoking will have an increased risk of smoking-related illnesses such as cancer, heart disease, and respiratory diseases and may have higher medical costs than those who lead healthy lifestyles.\n"
   ]
  },
  {
   "cell_type": "markdown",
   "metadata": {},
   "source": [
    "# Data"
   ]
  },
  {
   "cell_type": "markdown",
   "metadata": {},
   "source": [
    "The intended datasets for this project would be a large number of medical-related data collected from individuals randomly within the U.S. population which have spanned a series of years (e.g. data taken from individuals randomly from population in a 10-year interval). Specific information taken from each individual should include their annual medical expenditure, average working hours per week, body mass index, and individual's habit of smoking. It’s best for the data to be in a column data spreadsheet with the year of collection included so we can analyze the effect of time.\n",
    "\n",
    "\n",
    "The datasets we got are all collected from the Medical Expenditure Panel Survey, which is a national survey conducted by the Agency for Healthcare Research and Quality (AHRQ) that collects data on healthcare utilization and expenditures. Each dataset contains information on the given variables for a year, combined, they represent data collected from 2011-2020.\n"
   ]
  },
  {
   "cell_type": "markdown",
   "metadata": {},
   "source": [
    "# Ethics & Privacy"
   ]
  },
  {
   "cell_type": "markdown",
   "metadata": {},
   "source": [
    "Our project is done in a legal way, and we believe our project will have academic use. Based on that, the whole team members acknowledge that there might have ethical and privacy issues such as potential bias and lack of privacy. We will consider all the possible concerns in the following paragraph.\n",
    "\n",
    "Our project dataset is about people’s medical expenditure and it consists of medical history, test results and information about them or their families, which reflects a lot about an individual’s health status, lifestyle and vulnerabilities. We use the Medical Expenditure Panel Survey which is a large-scale survey completed by families, individuals, their medical provider and their employees. As researchers, we are aware of how the use of such health data may raise ethical and privacy concerns. Participants have a right to privacy when it comes to highly personal medical data. Participation in MEPS is totally voluntary, there is no penalty and loss if people refuse to participate. Participants have the right to not answer the questions they think are not appropriate. Because the data is collected anonymously\n",
    "\n",
    "Our dataset does not exclude any particular populations since the participants are of a range of ethnicities, age groups and have a variety of occupations. Thus, our choice of data ensures that the data is representative of the larger population and can help to avoid biases that may arise from only including certain groups in the study. "
   ]
  },
  {
   "cell_type": "markdown",
   "metadata": {},
   "source": [
    "# Team Expectations "
   ]
  },
  {
   "cell_type": "markdown",
   "metadata": {},
   "source": [
    "\n",
    "Huiyi He - Background & Prior Work; Ethics & Privacy\n",
    "\n",
    "Yihuan Wang - Background & Prior Work; Ethics & Privacy\n",
    "\n",
    "Yuhan Zhou - Data Cleaning & Data checkpoint\n",
    "\n",
    "Jiayi Zhu - Data Cleaning & Data checkpoint\n",
    "\n",
    "Baoni Li - Data Cleaning & Data checkpoint"
   ]
  },
  {
   "cell_type": "markdown",
   "metadata": {},
   "source": [
    "# Project Timeline Proposal"
   ]
  },
  {
   "cell_type": "markdown",
   "metadata": {},
   "source": [
    "Specify your team's specific project timeline. An example timeline has been provided. Changes the dates, times, names, and details to fit your group's plan.\n",
    "\n",
    "If you think you will need any special resources or training outside what we have covered in COGS 108 to solve your problem, then your proposal should state these clearly. For example, if you have selected a problem that involves implementing multiple neural networks, please state this so we can make sure you know what you’re doing and so we can point you to resources you will need to implement your project. Note that you are not required to use outside methods.\n",
    "\n",
    "\n",
    "\n",
    "| Meeting Date  | Meeting Time| Completed Before Meeting  | Discuss at Meeting |\n",
    "|---|---|---|---|\n",
    "| 2/26  |  1 PM | Read & Think about COGS 108 expectations; brainstorm topics/questions  | Determine best form of communication; Discuss and decide on final project topic; discuss hypothesis; begin background research | \n",
    "| 3/01  |  10 AM |  Do background research on topic | Discuss ideal dataset(s) and ethics; draft project proposal | \n",
    "| 3/5  | 10 PM  | Edit, finalize, and submit proposal; Search for datasets  | Discuss Wrangling and possible analytical approaches; Assign group members to lead each specific part   |\n",
    "| 3/8  | 6 PM  | Import & Wrangle Data (Yuhan, Baoni, Jiayi); | Review/Edit wrangling/EDA; Discuss Analysis Plan   |\n",
    "| 3/14  | 12 PM  | Finalize wrangling/EDA; Begin Analysis (Jiayi, Huiyi, Yihuan) | Discuss/edit Analysis (Yuhan, Baoni); Complete project check-in |\n",
    "| 3/17  | 12 PM  | Complete analysis; Draft results/conclusion/discussion | Discuss/edit full project |\n",
    "| 3/19  | Before 11:59 PM  | NA | Turn in Final Project & Group Project Surveys |"
   ]
  },
  {
   "cell_type": "code",
   "execution_count": null,
   "metadata": {},
   "outputs": [],
   "source": []
  }
 ],
 "metadata": {
  "kernelspec": {
   "display_name": "Python 3",
   "language": "python",
   "name": "python3"
  },
  "language_info": {
   "codemirror_mode": {
    "name": "ipython",
    "version": 3
   },
   "file_extension": ".py",
   "mimetype": "text/x-python",
   "name": "python",
   "nbconvert_exporter": "python",
   "pygments_lexer": "ipython3",
   "version": "3.8.8"
  }
 },
 "nbformat": 4,
 "nbformat_minor": 2
}
